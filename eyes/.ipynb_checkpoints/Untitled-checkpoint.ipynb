{
 "cells": [
  {
   "cell_type": "code",
   "execution_count": 21,
   "metadata": {},
   "outputs": [],
   "source": [
    "from Utils import Utils\n",
    "import os\n",
    "import cv2\n",
    "import matplotlib.pyplot as plt\n",
    "import numpy as np"
   ]
  },
  {
   "cell_type": "code",
   "execution_count": 22,
   "metadata": {},
   "outputs": [
    {
     "name": "stdout",
     "output_type": "stream",
     "text": [
      "Model: \"model_5\"\n",
      "_________________________________________________________________\n",
      "Layer (type)                 Output Shape              Param #   \n",
      "=================================================================\n",
      "input_6 (InputLayer)         [(None, 128, 128, 1)]     0         \n",
      "_________________________________________________________________\n",
      "conv2d_10 (Conv2D)           (None, 126, 126, 32)      320       \n",
      "_________________________________________________________________\n",
      "max_pooling2d_10 (MaxPooling (None, 63, 63, 32)        0         \n",
      "_________________________________________________________________\n",
      "batch_normalization_10 (Batc (None, 63, 63, 32)        128       \n",
      "_________________________________________________________________\n",
      "dropout_20 (Dropout)         (None, 63, 63, 32)        0         \n",
      "_________________________________________________________________\n",
      "conv2d_11 (Conv2D)           (None, 61, 61, 64)        18496     \n",
      "_________________________________________________________________\n",
      "max_pooling2d_11 (MaxPooling (None, 30, 30, 64)        0         \n",
      "_________________________________________________________________\n",
      "batch_normalization_11 (Batc (None, 30, 30, 64)        256       \n",
      "_________________________________________________________________\n",
      "dropout_21 (Dropout)         (None, 30, 30, 64)        0         \n",
      "_________________________________________________________________\n",
      "global_max_pooling2d_5 (Glob (None, 64)                0         \n",
      "_________________________________________________________________\n",
      "dense_15 (Dense)             (None, 256)               16640     \n",
      "_________________________________________________________________\n",
      "dropout_22 (Dropout)         (None, 256)               0         \n",
      "_________________________________________________________________\n",
      "dense_16 (Dense)             (None, 256)               65792     \n",
      "_________________________________________________________________\n",
      "dropout_23 (Dropout)         (None, 256)               0         \n",
      "_________________________________________________________________\n",
      "dense_17 (Dense)             (None, 2)                 514       \n",
      "=================================================================\n",
      "Total params: 102,146\n",
      "Trainable params: 101,954\n",
      "Non-trainable params: 192\n",
      "_________________________________________________________________\n",
      "None\n",
      "\n",
      "Weights successfully loaded\n",
      "\n"
     ]
    }
   ],
   "source": [
    "S = Utils(100,100)\n",
    "S.init_model()\n",
    "S.load_model_weights()"
   ]
  },
  {
   "cell_type": "code",
   "execution_count": 26,
   "metadata": {},
   "outputs": [
    {
     "name": "stdout",
     "output_type": "stream",
     "text": [
      "           Filename  actual_x  error_x  actual_y  error_y  total_error  \\\n",
      "0  1023_510_240.jpg      1023       -7       510     -163   163.150238   \n",
      "1  1029_430_100.jpg      1029      -97       430     -159   186.252517   \n",
      "2  1033_351_105.jpg      1033       37       351      -45    58.258047   \n",
      "3   1046_146_33.jpg      1046     -111       146       -8   111.287915   \n",
      "4   1046_146_34.jpg      1046     -113       146      -12   113.635382   \n",
      "5   1060_566_16.jpg      1060        5       566     -139   139.089899   \n",
      "6  1104_548_288.jpg      1104     -137       548     -262   295.656896   \n",
      "7  1107_235_212.jpg      1107      -13       235     -110   110.765518   \n",
      "8  1111_246_183.jpg      1111      -61       246     -106   122.298814   \n",
      "9  1118_102_205.jpg      1118      104       102       -5   104.120123   \n",
      "\n",
      "                                               color  \n",
      "0  <function Utils.show_results.<locals>.assign_c...  \n",
      "1  <function Utils.show_results.<locals>.assign_c...  \n",
      "2  <function Utils.show_results.<locals>.assign_c...  \n",
      "3  <function Utils.show_results.<locals>.assign_c...  \n",
      "4  <function Utils.show_results.<locals>.assign_c...  \n",
      "5  <function Utils.show_results.<locals>.assign_c...  \n",
      "6  <function Utils.show_results.<locals>.assign_c...  \n",
      "7  <function Utils.show_results.<locals>.assign_c...  \n",
      "8  <function Utils.show_results.<locals>.assign_c...  \n",
      "9  <function Utils.show_results.<locals>.assign_c...  \n"
     ]
    },
    {
     "data": {
      "image/png": "[encoded data removed]",
      "text/plain": [
       "<Figure size 432x288 with 1 Axes>"
      ]
     },
     "metadata": {
      "needs_background": "light"
     },
     "output_type": "display_data"
    }
   ],
   "source": [
    "S.show_results()"
   ]
  },
  {
   "cell_type": "code",
   "execution_count": 24,
   "metadata": {},
   "outputs": [],
   "source": [
    "file_name=[]\n",
    "file_error=[]\n",
    "\n",
    "path = 'data/training_images/test/'\n",
    "\n",
    "for file in os.listdir(path):\n",
    "    x = int(file.split('_')[0])\n",
    "    y = int(file.split('_')[1])\n",
    " \n",
    "    img = cv2.imread(path + file)\n",
    "\n",
    "    img = img[:,:,0]\n",
    "\n",
    "    img = cv2.resize(img, (S.image_size,S.image_size))\n",
    "    img = img.reshape(1, S.image_size, S.image_size,1)\n",
    "    img = img/255.0\n",
    "    pred_x = S.model.predict(img)[0][0]\n",
    "    pred_y = S.model.predict(img)[0][1]\n",
    "    error = np.sqrt((pred_x-x)**2 + (pred_y-y)**2)\n",
    "    file_name.append(file)\n",
    "    file_error.append(error)"
   ]
  },
  {
   "cell_type": "code",
   "execution_count": 25,
   "metadata": {},
   "outputs": [
    {
     "data": {
      "image/png": "[encoded data removed]",
      "text/plain": [
       "<Figure size 432x288 with 1 Axes>"
      ]
     },
     "metadata": {
      "needs_background": "light"
     },
     "output_type": "display_data"
    }
   ],
   "source": [
    "plt.hist(file_error, bins=35)\n",
    "plt.show()"
   ]
  },
  {
   "cell_type": "code",
   "execution_count": 57,
   "metadata": {},
   "outputs": [
    {
     "name": "stdout",
     "output_type": "stream",
     "text": [
      "Removing 112_347_81.jpg\n",
      "Removing 112_347_82.jpg\n",
      "Removing 112_68_140.jpg\n",
      "Removing 119_550_83.jpg\n",
      "Removing 119_550_84.jpg\n",
      "Removing 124_420_92.jpg\n",
      "Removing 138_266_189.jpg\n",
      "Removing 13_141_59.jpg\n",
      "Removing 140_247_97.jpg\n",
      "Removing 149_597_169.jpg\n",
      "Removing 14_442_140.jpg\n",
      "Removing 152_518_181.jpg\n",
      "Removing 158_541_83.jpg\n",
      "Removing 160_101_16.jpg\n",
      "Removing 162_579_53.jpg\n",
      "Removing 17_242_197.jpg\n",
      "Removing 180_505_211.jpg\n",
      "Removing 199_87_129.jpg\n",
      "Removing 199_87_130.jpg\n",
      "Removing 213_517_174.jpg\n",
      "Removing 223_507_118.jpg\n",
      "Removing 235_394_7.jpg\n",
      "Removing 261_348_60.jpg\n",
      "Removing 261_539_184.jpg\n",
      "Removing 265_594_164.jpg\n",
      "Removing 268_329_11.jpg\n",
      "Removing 270_11_85.jpg\n",
      "Removing 276_346_127.jpg\n",
      "Removing 276_414_173.jpg\n",
      "Removing 284_469_88.jpg\n",
      "Removing 288_598_32.jpg\n",
      "Removing 296_587_112.jpg\n",
      "Removing 315_413_177.jpg\n",
      "Removing 32_416_103.jpg\n",
      "Removing 339_286_44.jpg\n",
      "Removing 339_320_41.jpg\n",
      "Removing 339_490_62.jpg\n",
      "Removing 33_563_121.jpg\n",
      "Removing 346_231_114.jpg\n",
      "Removing 353_138_20.jpg\n",
      "Removing 35_580_226.jpg\n",
      "Removing 374_288_44.jpg\n",
      "Removing 374_539_272.jpg\n",
      "Removing 381_41_184.jpg\n",
      "Removing 384_87_49.jpg\n",
      "Removing 401_509_55.jpg\n",
      "Removing 405_487_237.jpg\n",
      "Removing 407_228_61.jpg\n",
      "Removing 417_51_38.jpg\n",
      "Removing 420_508_29.jpg\n",
      "Removing 431_568_263.jpg\n",
      "Removing 439_303_137.jpg\n",
      "Removing 439_303_138.jpg\n",
      "Removing 448_58_13.jpg\n",
      "Removing 44_513_121.jpg\n",
      "Removing 462_547_68.jpg\n",
      "Removing 462_547_69.jpg\n",
      "Removing 473_575_244.jpg\n",
      "Removing 480_475_114.jpg\n",
      "Removing 485_347_57.jpg\n",
      "Removing 486_498_160.jpg\n",
      "Removing 504_495_34.jpg\n",
      "Removing 521_223_97.jpg\n",
      "Removing 526_195_45.jpg\n",
      "Removing 546_506_18.jpg\n",
      "Removing 549_571_3.jpg\n",
      "Removing 551_277_133.jpg\n",
      "Removing 555_526_227.jpg\n",
      "Removing 55_515_71.jpg\n",
      "Removing 567_130_57.jpg\n",
      "Removing 576_142_138.jpg\n",
      "Removing 577_234_80.jpg\n",
      "Removing 577_521_280.jpg\n",
      "Removing 580_311_71.jpg\n",
      "Removing 588_111_18.jpg\n",
      "Removing 588_340_80.jpg\n",
      "Removing 589_30_13.jpg\n",
      "Removing 589_30_14.jpg\n",
      "Removing 621_517_38.jpg\n",
      "Removing 630_403_91.jpg\n",
      "Removing 649_589_60.jpg\n",
      "Removing 653_220_157.jpg\n",
      "Removing 653_220_158.jpg\n",
      "Removing 655_538_190.jpg\n",
      "Removing 668_572_116.jpg\n",
      "Removing 692_362_61.jpg\n",
      "Removing 701_21_9.jpg\n",
      "Removing 712_108_133.jpg\n",
      "Removing 715_430_100.jpg\n",
      "Removing 715_536_136.jpg\n",
      "Removing 720_80_109.jpg\n",
      "Removing 726_376_45.jpg\n",
      "Removing 737_95_67.jpg\n",
      "Removing 73_494_83.jpg\n",
      "Removing 740_403_95.jpg\n",
      "Removing 761_463_101.jpg\n",
      "Removing 768_566_152.jpg\n",
      "Removing 769_188_71.jpg\n",
      "Removing 775_515_68.jpg\n",
      "Removing 785_468_9.jpg\n",
      "Removing 786_275_90.jpg\n",
      "Removing 806_288_64.jpg\n",
      "Removing 820_597_45.jpg\n",
      "Removing 82_532_108.jpg\n",
      "Removing 832_217_131.jpg\n",
      "Removing 837_510_8.jpg\n",
      "Removing 842_598_157.jpg\n",
      "Removing 849_293_25.jpg\n",
      "Removing 853_506_21.jpg\n",
      "Removing 853_506_22.jpg\n",
      "Removing 861_73_119.jpg\n",
      "Removing 861_73_120.jpg\n",
      "Removing 864_557_145.jpg\n",
      "Removing 867_392_173.jpg\n",
      "Removing 869_245_73.jpg\n",
      "Removing 877_574_165.jpg\n",
      "Removing 878_497_195.jpg\n",
      "Removing 88_427_169.jpg\n",
      "Removing 924_492_114.jpg\n",
      "Removing 930_190_182.jpg\n",
      "Removing 938_523_58.jpg\n",
      "Removing 93_279_133.jpg\n",
      "Removing 93_279_134.jpg\n",
      "Removing 941_545_36.jpg\n",
      "Removing 941_550_250.jpg\n",
      "Removing 943_524_119.jpg\n",
      "Removing 947_191_93.jpg\n",
      "Removing 947_191_94.jpg\n",
      "Removing 947_582_48.jpg\n",
      "Removing 948_119_65.jpg\n",
      "Removing 958_582_127.jpg\n",
      "Removing 959_560_149.jpg\n",
      "132  files removed.\n"
     ]
    }
   ],
   "source": [
    "# count = 0\n",
    "# threshold_error = 30\n",
    "# for file, error in zip(file_name, file_error):\n",
    "#     if error >= threshold_error:\n",
    "#         os.remove(path + file)\n",
    "#         print('Removing '+ file)\n",
    "#         count += 1\n",
    "# print(count, ' files removed.')"
   ]
  },
  {
   "cell_type": "code",
   "execution_count": null,
   "metadata": {},
   "outputs": [],
   "source": []
  }
 ],
 "metadata": {
  "kernelspec": {
   "display_name": "Python 3",
   "language": "python",
   "name": "python3"
  },
  "language_info": {
   "codemirror_mode": {
    "name": "ipython",
    "version": 3
   },
   "file_extension": ".py",
   "mimetype": "text/x-python",
   "name": "python",
   "nbconvert_exporter": "python",
   "pygments_lexer": "ipython3",
   "version": "3.6.10"
  }
 },
 "nbformat": 4,
 "nbformat_minor": 4
}
